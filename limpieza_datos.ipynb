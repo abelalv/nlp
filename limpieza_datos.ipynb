{
 "cells": [
  {
   "cell_type": "raw",
   "metadata": {},
   "source": [
    "---\n",
    "title: \"Untitled\"\n",
    "format: html\n",
    "---"
   ]
  },
  {
   "cell_type": "code",
   "execution_count": 1,
   "metadata": {},
   "outputs": [
    {
     "name": "stderr",
     "output_type": "stream",
     "text": [
      "[nltk_data] Downloading package punkt to /home/abel/nltk_data...\n",
      "[nltk_data]   Unzipping tokenizers/punkt.zip.\n",
      "[nltk_data] Downloading package stopwords to /home/abel/nltk_data...\n",
      "[nltk_data]   Unzipping corpora/stopwords.zip.\n",
      "[nltk_data] Downloading package wordnet to /home/abel/nltk_data...\n",
      "[nltk_data] Downloading package averaged_perceptron_tagger to\n",
      "[nltk_data]     /home/abel/nltk_data...\n",
      "[nltk_data]   Unzipping taggers/averaged_perceptron_tagger.zip.\n",
      "[nltk_data] Downloading package maxent_ne_chunker to\n",
      "[nltk_data]     /home/abel/nltk_data...\n",
      "[nltk_data]   Unzipping chunkers/maxent_ne_chunker.zip.\n"
     ]
    },
    {
     "data": {
      "text/plain": [
       "True"
      ]
     },
     "execution_count": 1,
     "metadata": {},
     "output_type": "execute_result"
    }
   ],
   "source": [
    "import nltk\n",
    "nltk.download('punkt')\n",
    "nltk.download('stopwords')\n",
    "nltk.download('wordnet')\n",
    "nltk.download('averaged_perceptron_tagger')\n",
    "nltk.download('maxent_ne_chunker')"
   ]
  },
  {
   "cell_type": "code",
   "execution_count": 2,
   "metadata": {},
   "outputs": [],
   "source": [
    "import pandas as pd\n",
    "import numpy as np\n",
    "\n",
    "import pickle as pk"
   ]
  },
  {
   "cell_type": "code",
   "execution_count": 5,
   "metadata": {},
   "outputs": [],
   "source": [
    "\n",
    "import warnings\n",
    "warnings.filterwarnings(\"ignore\")\n",
    "\n",
    "\n",
    "from bs4 import BeautifulSoup\n",
    "import unicodedata\n",
    "import re\n",
    "\n",
    "from nltk.tokenize import word_tokenize\n",
    "from nltk.tokenize import sent_tokenize\n",
    "\n",
    "from nltk.corpus import stopwords\n",
    "\n",
    "\n",
    "from nltk.corpus import wordnet\n",
    "from nltk import pos_tag\n",
    "from nltk import ne_chunk\n",
    "\n",
    "from nltk.stem.porter import PorterStemmer\n",
    "from nltk.stem.wordnet import WordNetLemmatizer\n",
    "\n",
    "from nltk.probability import FreqDist\n",
    "import matplotlib.pyplot as plt\n",
    "from wordcloud import WordCloud"
   ]
  },
  {
   "cell_type": "code",
   "execution_count": 7,
   "metadata": {},
   "outputs": [
    {
     "data": {
      "text/html": [
       "<div>\n",
       "<style scoped>\n",
       "    .dataframe tbody tr th:only-of-type {\n",
       "        vertical-align: middle;\n",
       "    }\n",
       "\n",
       "    .dataframe tbody tr th {\n",
       "        vertical-align: top;\n",
       "    }\n",
       "\n",
       "    .dataframe thead th {\n",
       "        text-align: right;\n",
       "    }\n",
       "</style>\n",
       "<table border=\"1\" class=\"dataframe\">\n",
       "  <thead>\n",
       "    <tr style=\"text-align: right;\">\n",
       "      <th></th>\n",
       "      <th>Unnamed: 0</th>\n",
       "      <th>Product Name</th>\n",
       "      <th>Brand Name</th>\n",
       "      <th>Price</th>\n",
       "      <th>Rating</th>\n",
       "      <th>Reviews</th>\n",
       "      <th>Review Votes</th>\n",
       "    </tr>\n",
       "  </thead>\n",
       "  <tbody>\n",
       "    <tr>\n",
       "      <th>0</th>\n",
       "      <td>0</td>\n",
       "      <td>\"CLEAR CLEAN ESN\" Sprint EPIC 4G Galaxy SPH-D7...</td>\n",
       "      <td>Samsung</td>\n",
       "      <td>199.99</td>\n",
       "      <td>5</td>\n",
       "      <td>I feel so LUCKY to have found this used (phone...</td>\n",
       "      <td>1.0</td>\n",
       "    </tr>\n",
       "    <tr>\n",
       "      <th>1</th>\n",
       "      <td>1</td>\n",
       "      <td>\"CLEAR CLEAN ESN\" Sprint EPIC 4G Galaxy SPH-D7...</td>\n",
       "      <td>Samsung</td>\n",
       "      <td>199.99</td>\n",
       "      <td>4</td>\n",
       "      <td>nice phone, nice up grade from my pantach revu...</td>\n",
       "      <td>0.0</td>\n",
       "    </tr>\n",
       "    <tr>\n",
       "      <th>2</th>\n",
       "      <td>2</td>\n",
       "      <td>\"CLEAR CLEAN ESN\" Sprint EPIC 4G Galaxy SPH-D7...</td>\n",
       "      <td>Samsung</td>\n",
       "      <td>199.99</td>\n",
       "      <td>5</td>\n",
       "      <td>Very pleased</td>\n",
       "      <td>0.0</td>\n",
       "    </tr>\n",
       "    <tr>\n",
       "      <th>3</th>\n",
       "      <td>3</td>\n",
       "      <td>\"CLEAR CLEAN ESN\" Sprint EPIC 4G Galaxy SPH-D7...</td>\n",
       "      <td>Samsung</td>\n",
       "      <td>199.99</td>\n",
       "      <td>4</td>\n",
       "      <td>It works good but it goes slow sometimes but i...</td>\n",
       "      <td>0.0</td>\n",
       "    </tr>\n",
       "    <tr>\n",
       "      <th>4</th>\n",
       "      <td>4</td>\n",
       "      <td>\"CLEAR CLEAN ESN\" Sprint EPIC 4G Galaxy SPH-D7...</td>\n",
       "      <td>Samsung</td>\n",
       "      <td>199.99</td>\n",
       "      <td>4</td>\n",
       "      <td>Great phone to replace my lost phone. The only...</td>\n",
       "      <td>0.0</td>\n",
       "    </tr>\n",
       "  </tbody>\n",
       "</table>\n",
       "</div>"
      ],
      "text/plain": [
       "   Unnamed: 0                                       Product Name Brand Name  \\\n",
       "0           0  \"CLEAR CLEAN ESN\" Sprint EPIC 4G Galaxy SPH-D7...    Samsung   \n",
       "1           1  \"CLEAR CLEAN ESN\" Sprint EPIC 4G Galaxy SPH-D7...    Samsung   \n",
       "2           2  \"CLEAR CLEAN ESN\" Sprint EPIC 4G Galaxy SPH-D7...    Samsung   \n",
       "3           3  \"CLEAR CLEAN ESN\" Sprint EPIC 4G Galaxy SPH-D7...    Samsung   \n",
       "4           4  \"CLEAR CLEAN ESN\" Sprint EPIC 4G Galaxy SPH-D7...    Samsung   \n",
       "\n",
       "    Price  Rating                                            Reviews  \\\n",
       "0  199.99       5  I feel so LUCKY to have found this used (phone...   \n",
       "1  199.99       4  nice phone, nice up grade from my pantach revu...   \n",
       "2  199.99       5                                       Very pleased   \n",
       "3  199.99       4  It works good but it goes slow sometimes but i...   \n",
       "4  199.99       4  Great phone to replace my lost phone. The only...   \n",
       "\n",
       "   Review Votes  \n",
       "0           1.0  \n",
       "1           0.0  \n",
       "2           0.0  \n",
       "3           0.0  \n",
       "4           0.0  "
      ]
     },
     "execution_count": 7,
     "metadata": {},
     "output_type": "execute_result"
    }
   ],
   "source": [
    "df = pd.read_csv('Amazon_Unlocked_Mobile_small.csv')\n",
    "df.head()"
   ]
  },
  {
   "cell_type": "code",
   "execution_count": 8,
   "metadata": {},
   "outputs": [
    {
     "data": {
      "text/html": [
       "<div>\n",
       "<style scoped>\n",
       "    .dataframe tbody tr th:only-of-type {\n",
       "        vertical-align: middle;\n",
       "    }\n",
       "\n",
       "    .dataframe tbody tr th {\n",
       "        vertical-align: top;\n",
       "    }\n",
       "\n",
       "    .dataframe thead th {\n",
       "        text-align: right;\n",
       "    }\n",
       "</style>\n",
       "<table border=\"1\" class=\"dataframe\">\n",
       "  <thead>\n",
       "    <tr style=\"text-align: right;\">\n",
       "      <th></th>\n",
       "      <th>Rating</th>\n",
       "      <th>Reviews</th>\n",
       "    </tr>\n",
       "  </thead>\n",
       "  <tbody>\n",
       "    <tr>\n",
       "      <th>0</th>\n",
       "      <td>5</td>\n",
       "      <td>I feel so LUCKY to have found this used (phone...</td>\n",
       "    </tr>\n",
       "    <tr>\n",
       "      <th>1</th>\n",
       "      <td>4</td>\n",
       "      <td>nice phone, nice up grade from my pantach revu...</td>\n",
       "    </tr>\n",
       "    <tr>\n",
       "      <th>2</th>\n",
       "      <td>5</td>\n",
       "      <td>Very pleased</td>\n",
       "    </tr>\n",
       "    <tr>\n",
       "      <th>3</th>\n",
       "      <td>4</td>\n",
       "      <td>It works good but it goes slow sometimes but i...</td>\n",
       "    </tr>\n",
       "    <tr>\n",
       "      <th>4</th>\n",
       "      <td>4</td>\n",
       "      <td>Great phone to replace my lost phone. The only...</td>\n",
       "    </tr>\n",
       "  </tbody>\n",
       "</table>\n",
       "</div>"
      ],
      "text/plain": [
       "   Rating                                            Reviews\n",
       "0       5  I feel so LUCKY to have found this used (phone...\n",
       "1       4  nice phone, nice up grade from my pantach revu...\n",
       "2       5                                       Very pleased\n",
       "3       4  It works good but it goes slow sometimes but i...\n",
       "4       4  Great phone to replace my lost phone. The only..."
      ]
     },
     "execution_count": 8,
     "metadata": {},
     "output_type": "execute_result"
    }
   ],
   "source": [
    "df = df[['Rating', 'Reviews']]\n",
    "df.head()"
   ]
  },
  {
   "cell_type": "code",
   "execution_count": 9,
   "metadata": {},
   "outputs": [
    {
     "data": {
      "text/plain": [
       "\"I feel so LUCKY to have found this used (phone to us & not used hard at all), phone on line from someone who upgraded and sold this one. My Son liked his old one that finally fell apart after 2.5+ years and didn't want an upgrade!! Thank you Seller, we really appreciate it & your honesty re: said used phone.I recommend this seller very highly & would but from them again!!\""
      ]
     },
     "execution_count": 9,
     "metadata": {},
     "output_type": "execute_result"
    }
   ],
   "source": [
    "df['Reviews'].iloc[0]"
   ]
  },
  {
   "cell_type": "code",
   "execution_count": 10,
   "metadata": {},
   "outputs": [
    {
     "data": {
      "text/plain": [
       "Rating      int64\n",
       "Reviews    object\n",
       "dtype: object"
      ]
     },
     "execution_count": 10,
     "metadata": {},
     "output_type": "execute_result"
    }
   ],
   "source": [
    "df.dtypes"
   ]
  },
  {
   "cell_type": "code",
   "execution_count": 12,
   "metadata": {},
   "outputs": [
    {
     "data": {
      "text/plain": [
       "0        I feel so LUCKY to have found this used (phone...\n",
       "1        nice phone, nice up grade from my pantach revu...\n",
       "2                                             Very pleased\n",
       "3        It works good but it goes slow sometimes but i...\n",
       "4        Great phone to replace my lost phone. The only...\n",
       "                               ...                        \n",
       "19995                            had some technical issues\n",
       "19996    Works very well. Shipped very quickly and is s...\n",
       "19997    Phone looked brand new. I've had it one month ...\n",
       "19998                Doesn't hold a charge and dies at 25%\n",
       "19999    I've had this phone for over a month now and I...\n",
       "Name: Reviews, Length: 20000, dtype: object"
      ]
     },
     "execution_count": 12,
     "metadata": {},
     "output_type": "execute_result"
    }
   ],
   "source": [
    "#To be on the safe side, I convert the reviews as strings to be able to work with them correctly.\n",
    "df['Reviews'] = df['Reviews'].astype(str)\n",
    "df['Reviews']"
   ]
  },
  {
   "attachments": {},
   "cell_type": "markdown",
   "metadata": {},
   "source": [
    "# 3 Definition of required Functions\n",
    "All functions are summarized here. I will show them again in the course of this post at the place where they are used.\n",
    "\n"
   ]
  },
  {
   "cell_type": "code",
   "execution_count": 13,
   "metadata": {},
   "outputs": [],
   "source": [
    "def remove_html_tags_func(text):\n",
    "    '''\n",
    "    Removes HTML-Tags from a string, if present\n",
    "    \n",
    "    Args:\n",
    "        text (str): String to which the function is to be applied, string\n",
    "    \n",
    "    Returns:\n",
    "        Clean string without HTML-Tags\n",
    "    ''' \n",
    "    return BeautifulSoup(text, 'html.parser').get_text()"
   ]
  },
  {
   "cell_type": "code",
   "execution_count": 14,
   "metadata": {},
   "outputs": [],
   "source": [
    "def remove_url_func(text):\n",
    "    '''\n",
    "    Removes URL addresses from a string, if present\n",
    "    \n",
    "    Args:\n",
    "        text (str): String to which the function is to be applied, string\n",
    "    \n",
    "    Returns:\n",
    "        Clean string without URL addresses\n",
    "    ''' \n",
    "    return re.sub(r'https?://\\S+|www\\.\\S+', '', text)"
   ]
  },
  {
   "cell_type": "code",
   "execution_count": 15,
   "metadata": {},
   "outputs": [],
   "source": [
    "def remove_accented_chars_func(text):\n",
    "    '''\n",
    "    Removes all accented characters from a string, if present\n",
    "    \n",
    "    Args:\n",
    "        text (str): String to which the function is to be applied, string\n",
    "    \n",
    "    Returns:\n",
    "        Clean string without accented characters\n",
    "    '''\n",
    "    return unicodedata.normalize('NFKD', text).encode('ascii', 'ignore').decode('utf-8', 'ignore')"
   ]
  },
  {
   "cell_type": "code",
   "execution_count": 16,
   "metadata": {},
   "outputs": [],
   "source": [
    "def remove_punctuation_func(text):\n",
    "    '''\n",
    "    Removes all punctuation from a string, if present\n",
    "    \n",
    "    Args:\n",
    "        text (str): String to which the function is to be applied, string\n",
    "    \n",
    "    Returns:\n",
    "        Clean string without punctuations\n",
    "    '''\n",
    "    return re.sub(r'[^a-zA-Z0-9]', ' ', text)"
   ]
  },
  {
   "cell_type": "code",
   "execution_count": 17,
   "metadata": {},
   "outputs": [],
   "source": [
    "def remove_irr_char_func(text):\n",
    "    '''\n",
    "    Removes all irrelevant characters (numbers and punctuation) from a string, if present\n",
    "    \n",
    "    Args:\n",
    "        text (str): String to which the function is to be applied, string\n",
    "    \n",
    "    Returns:\n",
    "        Clean string without irrelevant characters\n",
    "    '''\n",
    "    return re.sub(r'[^a-zA-Z]', ' ', text)"
   ]
  },
  {
   "cell_type": "code",
   "execution_count": 18,
   "metadata": {},
   "outputs": [],
   "source": [
    "def remove_extra_whitespaces_func(text):\n",
    "    '''\n",
    "    Removes extra whitespaces from a string, if present\n",
    "    \n",
    "    Args:\n",
    "        text (str): String to which the function is to be applied, string\n",
    "    \n",
    "    Returns:\n",
    "        Clean string without extra whitespaces\n",
    "    ''' \n",
    "    return re.sub(r'^\\s*|\\s\\s*', ' ', text).strip()"
   ]
  },
  {
   "cell_type": "code",
   "execution_count": 19,
   "metadata": {},
   "outputs": [],
   "source": [
    "def word_count_func(text):\n",
    "    '''\n",
    "    Counts words within a string\n",
    "    \n",
    "    Args:\n",
    "        text (str): String to which the function is to be applied, string\n",
    "    \n",
    "    Returns:\n",
    "        Number of words within a string, integer\n",
    "    ''' \n",
    "    return len(text.split())"
   ]
  },
  {
   "attachments": {},
   "cell_type": "markdown",
   "metadata": {},
   "source": [
    "# 4 Text Pre-Processing\n",
    "There are some text pre-processing steps to consider and a few more you can do. In this post I will talk about text cleaning.\n",
    "\n",
    "## 4.1 Text Cleaning\n",
    "Here I have created an example string, where you can understand the following steps very well."
   ]
  },
  {
   "cell_type": "code",
   "execution_count": 20,
   "metadata": {},
   "outputs": [
    {
     "data": {
      "text/plain": [
       "\"Hi e-v-e-r-y-o-n-e !!!@@@!!! I gave a 5-star rating. Bought this special product here: https://www.amazon.com/. Another link: www.amazon.com/ Here the HTML-Tag as well:  <a href='https://www.amazon.com/'> …</a>. I HIGHLY RECOMMEND THIS PRDUCT !! I @ (love) [it] <for> {all} ~it's* |/ #special / ^^characters;! I am currently investigating the special device and am excited about the features. Love it! Furthermore, I found the support really great. Paid about 180$ for it (5.7inch version, 4.8'' screen). Sómě special Áccěntěd těxt and words like résumé, café or exposé.\""
      ]
     },
     "execution_count": 20,
     "metadata": {},
     "output_type": "execute_result"
    }
   ],
   "source": [
    "messy_text = \\\n",
    "\"Hi e-v-e-r-y-o-n-e !!!@@@!!! I gave a 5-star rating. \\\n",
    "Bought this special product here: https://www.amazon.com/. Another link: www.amazon.com/ \\\n",
    "Here the HTML-Tag as well:  <a href='https://www.amazon.com/'> …</a>. \\\n",
    "I HIGHLY RECOMMEND THIS PRDUCT !! \\\n",
    "I @ (love) [it] <for> {all} ~it's* |/ #special / ^^characters;! \\\n",
    "I am currently investigating the special device and am excited about the features. Love it! \\\n",
    "Furthermore, I found the support really great. Paid about 180$ for it (5.7inch version, 4.8'' screen). \\\n",
    "Sómě special Áccěntěd těxt and words like résumé, café or exposé.\\\n",
    "\"\n",
    "messy_text"
   ]
  },
  {
   "attachments": {},
   "cell_type": "markdown",
   "metadata": {},
   "source": [
    "In the following I will perform the individual steps for text cleaning and always use parts of the messy_text string.\n",
    "\n",
    "4.1.1 Conversion to Lower Case\n",
    "In general, it is advisable to format the text completely in lower case."
   ]
  },
  {
   "cell_type": "code",
   "execution_count": 21,
   "metadata": {},
   "outputs": [
    {
     "data": {
      "text/plain": [
       "'I HIGHLY RECOMMEND THIS PRDUCT !!'"
      ]
     },
     "execution_count": 21,
     "metadata": {},
     "output_type": "execute_result"
    }
   ],
   "source": [
    "messy_text_lower_case = \\\n",
    "\"I HIGHLY RECOMMEND THIS PRDUCT !!\\\n",
    "\"\n",
    "messy_text_lower_case"
   ]
  },
  {
   "cell_type": "code",
   "execution_count": 22,
   "metadata": {},
   "outputs": [
    {
     "data": {
      "text/plain": [
       "'i highly recommend this prduct !!'"
      ]
     },
     "execution_count": 22,
     "metadata": {},
     "output_type": "execute_result"
    }
   ],
   "source": [
    "messy_text_lower_case.lower()"
   ]
  },
  {
   "cell_type": "code",
   "execution_count": 23,
   "metadata": {},
   "outputs": [
    {
     "data": {
      "text/plain": [
       "\"Here the HTML-Tag as well:  <a href='https://www.amazon.com/'> …</a>.\""
      ]
     },
     "execution_count": 23,
     "metadata": {},
     "output_type": "execute_result"
    }
   ],
   "source": [
    "messy_text_html = \\\n",
    "\"Here the HTML-Tag as well:  <a href='https://www.amazon.com/'> …</a>.\\\n",
    "\"\n",
    "messy_text_html"
   ]
  },
  {
   "cell_type": "code",
   "execution_count": 24,
   "metadata": {},
   "outputs": [
    {
     "data": {
      "text/plain": [
       "'Here the HTML-Tag as well:   ….'"
      ]
     },
     "execution_count": 24,
     "metadata": {},
     "output_type": "execute_result"
    }
   ],
   "source": [
    "remove_html_tags_func(messy_text_html)"
   ]
  },
  {
   "cell_type": "code",
   "execution_count": 25,
   "metadata": {},
   "outputs": [
    {
     "data": {
      "text/html": [
       "<div>\n",
       "<style scoped>\n",
       "    .dataframe tbody tr th:only-of-type {\n",
       "        vertical-align: middle;\n",
       "    }\n",
       "\n",
       "    .dataframe tbody tr th {\n",
       "        vertical-align: top;\n",
       "    }\n",
       "\n",
       "    .dataframe thead th {\n",
       "        text-align: right;\n",
       "    }\n",
       "</style>\n",
       "<table border=\"1\" class=\"dataframe\">\n",
       "  <thead>\n",
       "    <tr style=\"text-align: right;\">\n",
       "      <th></th>\n",
       "      <th>Rating</th>\n",
       "      <th>Reviews</th>\n",
       "      <th>Clean_Reviews</th>\n",
       "    </tr>\n",
       "  </thead>\n",
       "  <tbody>\n",
       "    <tr>\n",
       "      <th>0</th>\n",
       "      <td>5</td>\n",
       "      <td>I feel so LUCKY to have found this used (phone...</td>\n",
       "      <td>i feel so lucky to have found this used phone ...</td>\n",
       "    </tr>\n",
       "    <tr>\n",
       "      <th>1</th>\n",
       "      <td>4</td>\n",
       "      <td>nice phone, nice up grade from my pantach revu...</td>\n",
       "      <td>nice phone nice up grade from my pantach revue...</td>\n",
       "    </tr>\n",
       "    <tr>\n",
       "      <th>2</th>\n",
       "      <td>5</td>\n",
       "      <td>Very pleased</td>\n",
       "      <td>very pleased</td>\n",
       "    </tr>\n",
       "    <tr>\n",
       "      <th>3</th>\n",
       "      <td>4</td>\n",
       "      <td>It works good but it goes slow sometimes but i...</td>\n",
       "      <td>it works good but it goes slow sometimes but i...</td>\n",
       "    </tr>\n",
       "    <tr>\n",
       "      <th>4</th>\n",
       "      <td>4</td>\n",
       "      <td>Great phone to replace my lost phone. The only...</td>\n",
       "      <td>great phone to replace my lost phone the only ...</td>\n",
       "    </tr>\n",
       "  </tbody>\n",
       "</table>\n",
       "</div>"
      ],
      "text/plain": [
       "   Rating                                            Reviews  \\\n",
       "0       5  I feel so LUCKY to have found this used (phone...   \n",
       "1       4  nice phone, nice up grade from my pantach revu...   \n",
       "2       5                                       Very pleased   \n",
       "3       4  It works good but it goes slow sometimes but i...   \n",
       "4       4  Great phone to replace my lost phone. The only...   \n",
       "\n",
       "                                       Clean_Reviews  \n",
       "0  i feel so lucky to have found this used phone ...  \n",
       "1  nice phone nice up grade from my pantach revue...  \n",
       "2                                       very pleased  \n",
       "3  it works good but it goes slow sometimes but i...  \n",
       "4  great phone to replace my lost phone the only ...  "
      ]
     },
     "execution_count": 25,
     "metadata": {},
     "output_type": "execute_result"
    }
   ],
   "source": [
    "df['Clean_Reviews'] = df['Reviews'].str.lower()\n",
    "df['Clean_Reviews'] = df['Clean_Reviews'].apply(remove_html_tags_func)\n",
    "df['Clean_Reviews'] = df['Clean_Reviews'].apply(remove_url_func)\n",
    "df['Clean_Reviews'] = df['Clean_Reviews'].apply(remove_accented_chars_func)\n",
    "df['Clean_Reviews'] = df['Clean_Reviews'].apply(remove_punctuation_func)\n",
    "df['Clean_Reviews'] = df['Clean_Reviews'].apply(remove_irr_char_func)\n",
    "df['Clean_Reviews'] = df['Clean_Reviews'].apply(remove_extra_whitespaces_func)\n",
    "\n",
    "df.head()"
   ]
  },
  {
   "cell_type": "code",
   "execution_count": 26,
   "metadata": {},
   "outputs": [
    {
     "data": {
      "text/html": [
       "<div>\n",
       "<style scoped>\n",
       "    .dataframe tbody tr th:only-of-type {\n",
       "        vertical-align: middle;\n",
       "    }\n",
       "\n",
       "    .dataframe tbody tr th {\n",
       "        vertical-align: top;\n",
       "    }\n",
       "\n",
       "    .dataframe thead th {\n",
       "        text-align: right;\n",
       "    }\n",
       "</style>\n",
       "<table border=\"1\" class=\"dataframe\">\n",
       "  <thead>\n",
       "    <tr style=\"text-align: right;\">\n",
       "      <th></th>\n",
       "      <th>Clean_Reviews</th>\n",
       "      <th>Word_Count</th>\n",
       "    </tr>\n",
       "  </thead>\n",
       "  <tbody>\n",
       "    <tr>\n",
       "      <th>0</th>\n",
       "      <td>i feel so lucky to have found this used phone ...</td>\n",
       "      <td>70</td>\n",
       "    </tr>\n",
       "    <tr>\n",
       "      <th>1</th>\n",
       "      <td>nice phone nice up grade from my pantach revue...</td>\n",
       "      <td>40</td>\n",
       "    </tr>\n",
       "    <tr>\n",
       "      <th>2</th>\n",
       "      <td>very pleased</td>\n",
       "      <td>2</td>\n",
       "    </tr>\n",
       "    <tr>\n",
       "      <th>3</th>\n",
       "      <td>it works good but it goes slow sometimes but i...</td>\n",
       "      <td>17</td>\n",
       "    </tr>\n",
       "    <tr>\n",
       "      <th>4</th>\n",
       "      <td>great phone to replace my lost phone the only ...</td>\n",
       "      <td>44</td>\n",
       "    </tr>\n",
       "  </tbody>\n",
       "</table>\n",
       "</div>"
      ],
      "text/plain": [
       "                                       Clean_Reviews  Word_Count\n",
       "0  i feel so lucky to have found this used phone ...          70\n",
       "1  nice phone nice up grade from my pantach revue...          40\n",
       "2                                       very pleased           2\n",
       "3  it works good but it goes slow sometimes but i...          17\n",
       "4  great phone to replace my lost phone the only ...          44"
      ]
     },
     "execution_count": 26,
     "metadata": {},
     "output_type": "execute_result"
    }
   ],
   "source": [
    "df['Word_Count'] = df['Clean_Reviews'].apply(word_count_func)\n",
    "\n",
    "df[['Clean_Reviews', 'Word_Count']].head()"
   ]
  },
  {
   "cell_type": "code",
   "execution_count": 27,
   "metadata": {},
   "outputs": [
    {
     "name": "stdout",
     "output_type": "stream",
     "text": [
      "Average of words counted: 34.73695\n"
     ]
    }
   ],
   "source": [
    "print('Average of words counted: ' + str(df['Word_Count'].mean()))"
   ]
  },
  {
   "cell_type": "code",
   "execution_count": 28,
   "metadata": {},
   "outputs": [
    {
     "data": {
      "text/plain": [
       "\"Hi e-v-e-r-y-o-n-e !!!@@@!!! I gave a 5-star rating. Bought this special product here: https://www.amazon.com/. Another link: www.amazon.com/ Here the HTML-Tag as well:  <a href='https://www.amazon.com/'> …</a>. I HIGHLY RECOMMEND THIS PRDUCT !! I @ (love) [it] <for> {all} ~it's* |/ #special / ^^characters;! I am currently investigating the special device and am excited about the features. Love it! Furthermore, I found the support really great. Paid about 180$ for it (5.7inch version, 4.8'' screen). Sómě special Áccěntěd těxt and words like résumé, café or exposé.\""
      ]
     },
     "execution_count": 28,
     "metadata": {},
     "output_type": "execute_result"
    }
   ],
   "source": [
    "# other example\n",
    "messy_text = \\\n",
    "\"Hi e-v-e-r-y-o-n-e !!!@@@!!! I gave a 5-star rating. \\\n",
    "Bought this special product here: https://www.amazon.com/. Another link: www.amazon.com/ \\\n",
    "Here the HTML-Tag as well:  <a href='https://www.amazon.com/'> …</a>. \\\n",
    "I HIGHLY RECOMMEND THIS PRDUCT !! \\\n",
    "I @ (love) [it] <for> {all} ~it's* |/ #special / ^^characters;! \\\n",
    "I am currently investigating the special device and am excited about the features. Love it! \\\n",
    "Furthermore, I found the support really great. Paid about 180$ for it (5.7inch version, 4.8'' screen). \\\n",
    "Sómě special Áccěntěd těxt and words like résumé, café or exposé.\\\n",
    "\"\n",
    "messy_text"
   ]
  },
  {
   "cell_type": "code",
   "execution_count": 29,
   "metadata": {},
   "outputs": [
    {
     "data": {
      "text/plain": [
       "\"hi e-v-e-r-y-o-n-e !!!@@@!!! i gave a 5-star rating. bought this special product here: https://www.amazon.com/. another link: www.amazon.com/ here the html-tag as well:  <a href='https://www.amazon.com/'> …</a>. i highly recommend this prduct !! i @ (love) [it] <for> {all} ~it's* |/ #special / ^^characters;! i am currently investigating the special device and am excited about the features. love it! furthermore, i found the support really great. paid about 180$ for it (5.7inch version, 4.8'' screen). sómě special áccěntěd těxt and words like résumé, café or exposé.\""
      ]
     },
     "execution_count": 29,
     "metadata": {},
     "output_type": "execute_result"
    }
   ],
   "source": [
    "# quitar mayusculas\n",
    "messy_text_lower = messy_text.lower()\n",
    "messy_text_lower"
   ]
  },
  {
   "cell_type": "code",
   "execution_count": 30,
   "metadata": {},
   "outputs": [
    {
     "data": {
      "text/plain": [
       "\"hi e-v-e-r-y-o-n-e !!!@@@!!! i gave a 5-star rating. bought this special product here: https://www.amazon.com/. another link: www.amazon.com/ here the html-tag as well:   …. i highly recommend this prduct !! i @ (love) [it]  {all} ~it's* |/ #special / ^^characters;! i am currently investigating the special device and am excited about the features. love it! furthermore, i found the support really great. paid about 180$ for it (5.7inch version, 4.8'' screen). sómě special áccěntěd těxt and words like résumé, café or exposé.\""
      ]
     },
     "execution_count": 30,
     "metadata": {},
     "output_type": "execute_result"
    }
   ],
   "source": [
    "# remover htlm\n",
    "messy_text_wo_html = remove_html_tags_func(messy_text_lower)\n",
    "messy_text_wo_html"
   ]
  },
  {
   "cell_type": "code",
   "execution_count": 31,
   "metadata": {},
   "outputs": [
    {
     "data": {
      "text/plain": [
       "\"hi e-v-e-r-y-o-n-e !!!@@@!!! i gave a 5-star rating. bought this special product here:  another link:  here the html-tag as well:   …. i highly recommend this prduct !! i @ (love) [it]  {all} ~it's* |/ #special / ^^characters;! i am currently investigating the special device and am excited about the features. love it! furthermore, i found the support really great. paid about 180$ for it (5.7inch version, 4.8'' screen). sómě special áccěntěd těxt and words like résumé, café or exposé.\""
      ]
     },
     "execution_count": 31,
     "metadata": {},
     "output_type": "execute_result"
    }
   ],
   "source": [
    "## remover url\n",
    "messy_text_wo_url = remove_url_func(messy_text_wo_html)\n",
    "messy_text_wo_url"
   ]
  },
  {
   "cell_type": "code",
   "execution_count": 33,
   "metadata": {},
   "outputs": [
    {
     "data": {
      "text/plain": [
       "\"hi e-v-e-r-y-o-n-e !!!@@@!!! i gave a 5-star rating. bought this special product here:  another link:  here the html-tag as well:   .... i highly recommend this prduct !! i @ (love) [it]  {all} ~it's* |/ #special / ^^characters;! i am currently investigating the special device and am excited about the features. love it! furthermore, i found the support really great. paid about 180$ for it (5.7inch version, 4.8'' screen). some special accented text and words like resume, cafe or expose.\""
      ]
     },
     "execution_count": 33,
     "metadata": {},
     "output_type": "execute_result"
    }
   ],
   "source": [
    "# remover acentos\n",
    "messy_text_wo_acc_chars = remove_accented_chars_func(messy_text_wo_url)\n",
    "messy_text_wo_acc_chars"
   ]
  },
  {
   "cell_type": "code",
   "execution_count": 35,
   "metadata": {},
   "outputs": [
    {
     "data": {
      "text/plain": [
       "'hi e v e r y o n e           i gave a 5 star rating  bought this special product here   another link   here the html tag as well         i highly recommend this prduct    i    love   it    all   it s      special     characters   i am currently investigating the special device and am excited about the features  love it  furthermore  i found the support really great  paid about 180  for it  5 7inch version  4 8   screen   some special accented text and words like resume  cafe or expose '"
      ]
     },
     "execution_count": 35,
     "metadata": {},
     "output_type": "execute_result"
    }
   ],
   "source": [
    "# remueve caracteres especiales\n",
    "messy_text_wo_punct = remove_punctuation_func(messy_text_wo_acc_chars)\n",
    "messy_text_wo_punct"
   ]
  },
  {
   "cell_type": "code",
   "execution_count": 37,
   "metadata": {},
   "outputs": [
    {
     "data": {
      "text/plain": [
       "'hi e v e r y o n e           i gave a   star rating  bought this special product here   another link   here the html tag as well         i highly recommend this prduct    i    love   it    all   it s      special     characters   i am currently investigating the special device and am excited about the features  love it  furthermore  i found the support really great  paid about      for it     inch version        screen   some special accented text and words like resume  cafe or expose '"
      ]
     },
     "execution_count": 37,
     "metadata": {},
     "output_type": "execute_result"
    }
   ],
   "source": [
    "# remueve numeros\n",
    "messy_text_wo_irr_char = remove_irr_char_func(messy_text_wo_punct)\n",
    "messy_text_wo_irr_char"
   ]
  },
  {
   "cell_type": "code",
   "execution_count": 39,
   "metadata": {},
   "outputs": [
    {
     "data": {
      "text/plain": [
       "'hi e v e r y o n e i gave a star rating bought this special product here another link here the html tag as well i highly recommend this prduct i love it all it s special characters i am currently investigating the special device and am excited about the features love it furthermore i found the support really great paid about for it inch version screen some special accented text and words like resume cafe or expose'"
      ]
     },
     "execution_count": 39,
     "metadata": {},
     "output_type": "execute_result"
    }
   ],
   "source": [
    "# remueve espacios extra\n",
    "clean_text = remove_extra_whitespaces_func(messy_text_wo_irr_char)\n",
    "clean_text"
   ]
  },
  {
   "cell_type": "code",
   "execution_count": 40,
   "metadata": {},
   "outputs": [
    {
     "name": "stdout",
     "output_type": "stream",
     "text": [
      "Number of words: 80\n"
     ]
    }
   ],
   "source": [
    "print('Number of words: ' + str(word_count_func(clean_text)))"
   ]
  }
 ],
 "metadata": {
  "kernelspec": {
   "display_name": "nlp",
   "language": "python",
   "name": "python3"
  },
  "language_info": {
   "codemirror_mode": {
    "name": "ipython",
    "version": 3
   },
   "file_extension": ".py",
   "mimetype": "text/x-python",
   "name": "python",
   "nbconvert_exporter": "python",
   "pygments_lexer": "ipython3",
   "version": "3.10.11"
  },
  "orig_nbformat": 4
 },
 "nbformat": 4,
 "nbformat_minor": 2
}
